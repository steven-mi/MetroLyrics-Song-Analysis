{
 "cells": [
  {
   "cell_type": "markdown",
   "metadata": {},
   "source": [
    "# Welche Wörter werden in englischsprachigen Liedern am meisten Verwendet"
   ]
  },
  {
   "cell_type": "code",
   "execution_count": 1,
   "metadata": {
    "collapsed": true
   },
   "outputs": [],
   "source": [
    "import pandas as pd"
   ]
  },
  {
   "cell_type": "code",
   "execution_count": 2,
   "metadata": {},
   "outputs": [
    {
     "name": "stdout",
     "output_type": "stream",
     "text": [
      "<class 'pandas.core.frame.DataFrame'>\n",
      "RangeIndex: 259793 entries, 0 to 259792\n",
      "Data columns (total 7 columns):\n",
      "Unnamed: 0                      259793 non-null int64\n",
      "song                            259792 non-null object\n",
      "year                            259793 non-null int64\n",
      "genre                           259793 non-null object\n",
      "word_tokenize_no_punctuation    259793 non-null object\n",
      "word_tokenize_length            259793 non-null int64\n",
      "word_tokenize_no_stopwords      259793 non-null object\n",
      "dtypes: int64(3), object(4)\n",
      "memory usage: 13.9+ MB\n"
     ]
    }
   ],
   "source": [
    "df = pd.read_csv('lyrics_clean_utf8.csv')\n",
    "df.info()"
   ]
  },
  {
   "cell_type": "code",
   "execution_count": 3,
   "metadata": {},
   "outputs": [
    {
     "data": {
      "text/html": [
       "<div>\n",
       "<style>\n",
       "    .dataframe thead tr:only-child th {\n",
       "        text-align: right;\n",
       "    }\n",
       "\n",
       "    .dataframe thead th {\n",
       "        text-align: left;\n",
       "    }\n",
       "\n",
       "    .dataframe tbody tr th {\n",
       "        vertical-align: top;\n",
       "    }\n",
       "</style>\n",
       "<table border=\"1\" class=\"dataframe\">\n",
       "  <thead>\n",
       "    <tr style=\"text-align: right;\">\n",
       "      <th></th>\n",
       "      <th>Unnamed: 0</th>\n",
       "      <th>song</th>\n",
       "      <th>year</th>\n",
       "      <th>genre</th>\n",
       "      <th>word_tokenize_no_punctuation</th>\n",
       "      <th>word_tokenize_length</th>\n",
       "      <th>word_tokenize_no_stopwords</th>\n",
       "    </tr>\n",
       "  </thead>\n",
       "  <tbody>\n",
       "    <tr>\n",
       "      <th>0</th>\n",
       "      <td>0</td>\n",
       "      <td>ego-remix</td>\n",
       "      <td>2009</td>\n",
       "      <td>Pop</td>\n",
       "      <td>['oh', 'baby', 'how', 'you', 'doing', 'you', '...</td>\n",
       "      <td>474</td>\n",
       "      <td>['oh', 'baby', 'know', \"'m\", 'gon', 'na', 'cut...</td>\n",
       "    </tr>\n",
       "    <tr>\n",
       "      <th>1</th>\n",
       "      <td>1</td>\n",
       "      <td>then-tell-me</td>\n",
       "      <td>2009</td>\n",
       "      <td>Pop</td>\n",
       "      <td>['playin', 'everything', 'so', 'easy', 'it', \"...</td>\n",
       "      <td>270</td>\n",
       "      <td>['playin', 'everything', 'easy', \"'s\", 'like',...</td>\n",
       "    </tr>\n",
       "    <tr>\n",
       "      <th>2</th>\n",
       "      <td>2</td>\n",
       "      <td>honesty</td>\n",
       "      <td>2009</td>\n",
       "      <td>Pop</td>\n",
       "      <td>['if', 'you', 'search', 'for', 'tenderness', '...</td>\n",
       "      <td>177</td>\n",
       "      <td>['search', 'tenderness', \"n't\", 'hard', 'find'...</td>\n",
       "    </tr>\n",
       "    <tr>\n",
       "      <th>3</th>\n",
       "      <td>3</td>\n",
       "      <td>you-are-my-rock</td>\n",
       "      <td>2009</td>\n",
       "      <td>Pop</td>\n",
       "      <td>['oh', 'oh', 'oh', 'i', 'oh', 'oh', 'oh', 'i',...</td>\n",
       "      <td>555</td>\n",
       "      <td>['oh', 'oh', 'oh', 'oh', 'oh', 'oh', 'verse', ...</td>\n",
       "    </tr>\n",
       "    <tr>\n",
       "      <th>4</th>\n",
       "      <td>4</td>\n",
       "      <td>black-culture</td>\n",
       "      <td>2009</td>\n",
       "      <td>Pop</td>\n",
       "      <td>['party', 'the', 'people', 'the', 'people', 't...</td>\n",
       "      <td>338</td>\n",
       "      <td>['party', 'people', 'people', 'party', \"'s\", '...</td>\n",
       "    </tr>\n",
       "  </tbody>\n",
       "</table>\n",
       "</div>"
      ],
      "text/plain": [
       "   Unnamed: 0             song  year genre  \\\n",
       "0           0        ego-remix  2009   Pop   \n",
       "1           1     then-tell-me  2009   Pop   \n",
       "2           2          honesty  2009   Pop   \n",
       "3           3  you-are-my-rock  2009   Pop   \n",
       "4           4    black-culture  2009   Pop   \n",
       "\n",
       "                        word_tokenize_no_punctuation  word_tokenize_length  \\\n",
       "0  ['oh', 'baby', 'how', 'you', 'doing', 'you', '...                   474   \n",
       "1  ['playin', 'everything', 'so', 'easy', 'it', \"...                   270   \n",
       "2  ['if', 'you', 'search', 'for', 'tenderness', '...                   177   \n",
       "3  ['oh', 'oh', 'oh', 'i', 'oh', 'oh', 'oh', 'i',...                   555   \n",
       "4  ['party', 'the', 'people', 'the', 'people', 't...                   338   \n",
       "\n",
       "                          word_tokenize_no_stopwords  \n",
       "0  ['oh', 'baby', 'know', \"'m\", 'gon', 'na', 'cut...  \n",
       "1  ['playin', 'everything', 'easy', \"'s\", 'like',...  \n",
       "2  ['search', 'tenderness', \"n't\", 'hard', 'find'...  \n",
       "3  ['oh', 'oh', 'oh', 'oh', 'oh', 'oh', 'verse', ...  \n",
       "4  ['party', 'people', 'people', 'party', \"'s\", '...  "
      ]
     },
     "execution_count": 3,
     "metadata": {},
     "output_type": "execute_result"
    }
   ],
   "source": [
    "df.head()"
   ]
  },
  {
   "cell_type": "markdown",
   "metadata": {},
   "source": [
    "## Entfernen von Trennzeichen\n",
    "Entfernen der CSV Trenzeichen ' und \""
   ]
  },
  {
   "cell_type": "code",
   "execution_count": 4,
   "metadata": {},
   "outputs": [
    {
     "data": {
      "text/html": [
       "<div>\n",
       "<style>\n",
       "    .dataframe thead tr:only-child th {\n",
       "        text-align: right;\n",
       "    }\n",
       "\n",
       "    .dataframe thead th {\n",
       "        text-align: left;\n",
       "    }\n",
       "\n",
       "    .dataframe tbody tr th {\n",
       "        vertical-align: top;\n",
       "    }\n",
       "</style>\n",
       "<table border=\"1\" class=\"dataframe\">\n",
       "  <thead>\n",
       "    <tr style=\"text-align: right;\">\n",
       "      <th></th>\n",
       "      <th>Unnamed: 0</th>\n",
       "      <th>song</th>\n",
       "      <th>year</th>\n",
       "      <th>genre</th>\n",
       "      <th>word_tokenize_no_punctuation</th>\n",
       "      <th>word_tokenize_length</th>\n",
       "      <th>word_tokenize_no_stopwords</th>\n",
       "    </tr>\n",
       "  </thead>\n",
       "  <tbody>\n",
       "    <tr>\n",
       "      <th>0</th>\n",
       "      <td>0</td>\n",
       "      <td>ego-remix</td>\n",
       "      <td>2009</td>\n",
       "      <td>Pop</td>\n",
       "      <td>[oh, baby, how, you, doing, you, know, i, m, g...</td>\n",
       "      <td>474</td>\n",
       "      <td>[oh, baby, know, m, gon, na, cut, right, chase...</td>\n",
       "    </tr>\n",
       "    <tr>\n",
       "      <th>1</th>\n",
       "      <td>1</td>\n",
       "      <td>then-tell-me</td>\n",
       "      <td>2009</td>\n",
       "      <td>Pop</td>\n",
       "      <td>[playin, everything, so, easy, it, s, like, yo...</td>\n",
       "      <td>270</td>\n",
       "      <td>[playin, everything, easy, s, like, seem, sure...</td>\n",
       "    </tr>\n",
       "    <tr>\n",
       "      <th>2</th>\n",
       "      <td>2</td>\n",
       "      <td>honesty</td>\n",
       "      <td>2009</td>\n",
       "      <td>Pop</td>\n",
       "      <td>[if, you, search, for, tenderness, it, is, nt,...</td>\n",
       "      <td>177</td>\n",
       "      <td>[search, tenderness, nt, hard, find, love, nee...</td>\n",
       "    </tr>\n",
       "    <tr>\n",
       "      <th>3</th>\n",
       "      <td>3</td>\n",
       "      <td>you-are-my-rock</td>\n",
       "      <td>2009</td>\n",
       "      <td>Pop</td>\n",
       "      <td>[oh, oh, oh, i, oh, oh, oh, i, verse, 1, if, i...</td>\n",
       "      <td>555</td>\n",
       "      <td>[oh, oh, oh, oh, oh, oh, verse, 1, wrote, book...</td>\n",
       "    </tr>\n",
       "    <tr>\n",
       "      <th>4</th>\n",
       "      <td>4</td>\n",
       "      <td>black-culture</td>\n",
       "      <td>2009</td>\n",
       "      <td>Pop</td>\n",
       "      <td>[party, the, people, the, people, the, party, ...</td>\n",
       "      <td>338</td>\n",
       "      <td>[party, people, people, party, s, popping, sit...</td>\n",
       "    </tr>\n",
       "  </tbody>\n",
       "</table>\n",
       "</div>"
      ],
      "text/plain": [
       "   Unnamed: 0             song  year genre  \\\n",
       "0           0        ego-remix  2009   Pop   \n",
       "1           1     then-tell-me  2009   Pop   \n",
       "2           2          honesty  2009   Pop   \n",
       "3           3  you-are-my-rock  2009   Pop   \n",
       "4           4    black-culture  2009   Pop   \n",
       "\n",
       "                        word_tokenize_no_punctuation  word_tokenize_length  \\\n",
       "0  [oh, baby, how, you, doing, you, know, i, m, g...                   474   \n",
       "1  [playin, everything, so, easy, it, s, like, yo...                   270   \n",
       "2  [if, you, search, for, tenderness, it, is, nt,...                   177   \n",
       "3  [oh, oh, oh, i, oh, oh, oh, i, verse, 1, if, i...                   555   \n",
       "4  [party, the, people, the, people, the, party, ...                   338   \n",
       "\n",
       "                          word_tokenize_no_stopwords  \n",
       "0  [oh, baby, know, m, gon, na, cut, right, chase...  \n",
       "1  [playin, everything, easy, s, like, seem, sure...  \n",
       "2  [search, tenderness, nt, hard, find, love, nee...  \n",
       "3  [oh, oh, oh, oh, oh, oh, verse, 1, wrote, book...  \n",
       "4  [party, people, people, party, s, popping, sit...  "
      ]
     },
     "execution_count": 4,
     "metadata": {},
     "output_type": "execute_result"
    }
   ],
   "source": [
    "df['word_tokenize_no_punctuation'] = df['word_tokenize_no_punctuation'].str.replace(\"'\",'')\n",
    "df['word_tokenize_no_punctuation'] = df['word_tokenize_no_punctuation'].str.replace('\"','')\n",
    "df['word_tokenize_no_stopwords'] = df['word_tokenize_no_stopwords'].str.replace(\"'\",'')\n",
    "df['word_tokenize_no_stopwords'] = df['word_tokenize_no_stopwords'].str.replace('\"','')\n",
    "df.head()"
   ]
  },
  {
   "cell_type": "markdown",
   "metadata": {},
   "source": [
    "## Zählen der Wörter"
   ]
  },
  {
   "cell_type": "markdown",
   "metadata": {},
   "source": [
    "### Mit Füllwörtern"
   ]
  },
  {
   "cell_type": "code",
   "execution_count": 5,
   "metadata": {
    "scrolled": true
   },
   "outputs": [
    {
     "data": {
      "text/plain": [
       "i,      2550384\n",
       "the,    2198526\n",
       "you,    2090279\n",
       "to,     1268560\n",
       "and,    1249524\n",
       "a,      1136374\n",
       "it,      973567\n",
       "me,      911659\n",
       "s,       778258\n",
       "my,      771430\n",
       "dtype: int64"
      ]
     },
     "execution_count": 5,
     "metadata": {},
     "output_type": "execute_result"
    }
   ],
   "source": [
    "s_frequency = pd.Series(' '.join(df['word_tokenize_no_punctuation']).lower().split()).value_counts()\n",
    "s_frequency.head(10)"
   ]
  },
  {
   "cell_type": "markdown",
   "metadata": {},
   "source": [
    "### Ohne Füllwörter"
   ]
  },
  {
   "cell_type": "code",
   "execution_count": 6,
   "metadata": {},
   "outputs": [
    {
     "data": {
      "text/plain": [
       "s,        760823\n",
       "nt,       729995\n",
       "m,        459595\n",
       "love,     316000\n",
       "like,     309896\n",
       "know,     306828\n",
       "got,      272983\n",
       "re,       254845\n",
       "ll,       233967\n",
       "na,       221960\n",
       "get,      217873\n",
       "oh,       216699\n",
       "one,      184855\n",
       "go,       182040\n",
       "time,     180738\n",
       "see,      178305\n",
       "never,    173510\n",
       "let,      168333\n",
       "ve,       165304\n",
       "want,     155084\n",
       "dtype: int64"
      ]
     },
     "execution_count": 6,
     "metadata": {},
     "output_type": "execute_result"
    }
   ],
   "source": [
    "s_frequency_no_stopwords = pd.Series(' '.join(df['word_tokenize_no_stopwords']).lower().split()).value_counts()\n",
    "s_frequency_no_stopwords.head(20)"
   ]
  },
  {
   "cell_type": "markdown",
   "metadata": {},
   "source": [
    "Entfernen der durch die Tokenization entstandenen Fehlerhaften Wörter"
   ]
  },
  {
   "cell_type": "code",
   "execution_count": 7,
   "metadata": {},
   "outputs": [
    {
     "data": {
      "text/plain": [
       "love,    316000\n",
       "like,    309896\n",
       "know,    306828\n",
       "got,     272983\n",
       "ll,      233967\n",
       "get,     217873\n",
       "oh,      216699\n",
       "one,     184855\n",
       "go,      182040\n",
       "time,    180738\n",
       "dtype: int64"
      ]
     },
     "execution_count": 7,
     "metadata": {},
     "output_type": "execute_result"
    }
   ],
   "source": [
    "s_frequency_no_stopwords=s_frequency_no_stopwords.drop(s_frequency_no_stopwords.index[[0,1,2,7,9]])\n",
    "s_frequency_no_stopwords.head(10)"
   ]
  },
  {
   "cell_type": "markdown",
   "metadata": {},
   "source": [
    "## Ausgabe der Ergebnisse"
   ]
  },
  {
   "cell_type": "markdown",
   "metadata": {},
   "source": [
    "### Mit Stopwörtern"
   ]
  },
  {
   "cell_type": "code",
   "execution_count": 8,
   "metadata": {},
   "outputs": [
    {
     "data": {
      "image/png": "[encoded data removed]",
      "text/plain": [
       "<matplotlib.figure.Figure at 0x2076a9909e8>"
      ]
     },
     "metadata": {},
     "output_type": "display_data"
    }
   ],
   "source": [
    "import matplotlib.pyplot as plt\n",
    "\n",
    "plot_tokenize = s_frequency[:10].plot(kind='barh', title =\"Worthäufigkeiten mit Stopwords\", figsize=(15, 10), fontsize=12)\n",
    "plot_tokenize.set_xlabel(\"Häufigkeit\", fontsize=15)\n",
    "#plot_tokenize.set_ylabel(\"Auftauchen\", fontsize=15)\n",
    "plt.show()"
   ]
  },
  {
   "cell_type": "markdown",
   "metadata": {},
   "source": [
    "### Ohne Stopwörtern"
   ]
  },
  {
   "cell_type": "code",
   "execution_count": 10,
   "metadata": {},
   "outputs": [
    {
     "data": {
      "image/png": "[encoded data removed]",
      "text/plain": [
       "<matplotlib.figure.Figure at 0x2077582dac8>"
      ]
     },
     "metadata": {},
     "output_type": "display_data"
    }
   ],
   "source": [
    "plot_stopwords = s_frequency_no_stopwords[:10].plot(kind='barh', title =\"Worthäufigkeiten ohne Stopwords\",figsize=(15, 10), fontsize=12)\n",
    "plot_stopwords.set_xlabel(\"Häufigkeit\", fontsize=15)\n",
    "#plot_stopwords.set_ylabel(\"Auftauchen\", fontsize=15)\n",
    "plt.show()"
   ]
  },
  {
   "cell_type": "code",
   "execution_count": null,
   "metadata": {
    "collapsed": true
   },
   "outputs": [],
   "source": []
  }
 ],
 "metadata": {
  "kernelspec": {
   "display_name": "Python 3",
   "language": "python",
   "name": "python3"
  },
  "language_info": {
   "codemirror_mode": {
    "name": "ipython",
    "version": 3
   },
   "file_extension": ".py",
   "mimetype": "text/x-python",
   "name": "python",
   "nbconvert_exporter": "python",
   "pygments_lexer": "ipython3",
   "version": "3.6.3"
  }
 },
 "nbformat": 4,
 "nbformat_minor": 2
}
