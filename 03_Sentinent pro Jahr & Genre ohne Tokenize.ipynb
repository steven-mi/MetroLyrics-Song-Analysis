{
 "cells": [
  {
   "cell_type": "code",
   "execution_count": 4,
   "metadata": {
    "collapsed": true
   },
   "outputs": [],
   "source": [
    "import pandas as pd\n",
    "df = pd.read_csv('lyrics.csv')"
   ]
  },
  {
   "cell_type": "code",
   "execution_count": 5,
   "metadata": {},
   "outputs": [
    {
     "name": "stdout",
     "output_type": "stream",
     "text": [
      "<class 'pandas.core.frame.DataFrame'>\n",
      "Int64Index: 261330 entries, 0 to 362236\n",
      "Data columns (total 7 columns):\n",
      "index         261330 non-null int64\n",
      "song          261329 non-null object\n",
      "year          261330 non-null int64\n",
      "artist        261330 non-null object\n",
      "genre         261330 non-null object\n",
      "text          261330 non-null object\n",
      "word_count    261330 non-null float64\n",
      "dtypes: float64(1), int64(2), object(4)\n",
      "memory usage: 16.0+ MB\n"
     ]
    }
   ],
   "source": [
    "df = df.replace({'\\n': ' '}, regex=True) \n",
    "\n",
    "df['word_count'] = df['text'].str.split().str.len()\n",
    "df = df[df['word_count'] >= 10]\n",
    "df = df[df['word_count'] <= 1500]\n",
    "\n",
    "df = df[df['year'] >= 1970]\n",
    "df = df[df['year'] < 2017]\n",
    "df.info()"
   ]
  },
  {
   "cell_type": "code",
   "execution_count": 6,
   "metadata": {},
   "outputs": [
    {
     "data": {
      "text/html": [
       "<div>\n",
       "<style>\n",
       "    .dataframe thead tr:only-child th {\n",
       "        text-align: right;\n",
       "    }\n",
       "\n",
       "    .dataframe thead th {\n",
       "        text-align: left;\n",
       "    }\n",
       "\n",
       "    .dataframe tbody tr th {\n",
       "        vertical-align: top;\n",
       "    }\n",
       "</style>\n",
       "<table border=\"1\" class=\"dataframe\">\n",
       "  <thead>\n",
       "    <tr style=\"text-align: right;\">\n",
       "      <th></th>\n",
       "      <th>index</th>\n",
       "      <th>song</th>\n",
       "      <th>year</th>\n",
       "      <th>artist</th>\n",
       "      <th>genre</th>\n",
       "      <th>text</th>\n",
       "      <th>word_count</th>\n",
       "    </tr>\n",
       "  </thead>\n",
       "  <tbody>\n",
       "    <tr>\n",
       "      <th>0</th>\n",
       "      <td>0</td>\n",
       "      <td>ego-remix</td>\n",
       "      <td>2009</td>\n",
       "      <td>beyonce-knowles</td>\n",
       "      <td>Pop</td>\n",
       "      <td>Oh baby, how you doing? You know I'm gonna cut...</td>\n",
       "      <td>433.0</td>\n",
       "    </tr>\n",
       "    <tr>\n",
       "      <th>1</th>\n",
       "      <td>1</td>\n",
       "      <td>then-tell-me</td>\n",
       "      <td>2009</td>\n",
       "      <td>beyonce-knowles</td>\n",
       "      <td>Pop</td>\n",
       "      <td>playin' everything so easy, it's like you seem...</td>\n",
       "      <td>258.0</td>\n",
       "    </tr>\n",
       "    <tr>\n",
       "      <th>2</th>\n",
       "      <td>2</td>\n",
       "      <td>honesty</td>\n",
       "      <td>2009</td>\n",
       "      <td>beyonce-knowles</td>\n",
       "      <td>Pop</td>\n",
       "      <td>If you search For tenderness It isn't hard to ...</td>\n",
       "      <td>170.0</td>\n",
       "    </tr>\n",
       "    <tr>\n",
       "      <th>3</th>\n",
       "      <td>3</td>\n",
       "      <td>you-are-my-rock</td>\n",
       "      <td>2009</td>\n",
       "      <td>beyonce-knowles</td>\n",
       "      <td>Pop</td>\n",
       "      <td>Oh oh oh I, oh oh oh I [Verse 1:] If I wrote a...</td>\n",
       "      <td>522.0</td>\n",
       "    </tr>\n",
       "    <tr>\n",
       "      <th>4</th>\n",
       "      <td>4</td>\n",
       "      <td>black-culture</td>\n",
       "      <td>2009</td>\n",
       "      <td>beyonce-knowles</td>\n",
       "      <td>Pop</td>\n",
       "      <td>Party the people, the people the party it's po...</td>\n",
       "      <td>312.0</td>\n",
       "    </tr>\n",
       "  </tbody>\n",
       "</table>\n",
       "</div>"
      ],
      "text/plain": [
       "   index             song  year           artist genre  \\\n",
       "0      0        ego-remix  2009  beyonce-knowles   Pop   \n",
       "1      1     then-tell-me  2009  beyonce-knowles   Pop   \n",
       "2      2          honesty  2009  beyonce-knowles   Pop   \n",
       "3      3  you-are-my-rock  2009  beyonce-knowles   Pop   \n",
       "4      4    black-culture  2009  beyonce-knowles   Pop   \n",
       "\n",
       "                                                text  word_count  \n",
       "0  Oh baby, how you doing? You know I'm gonna cut...       433.0  \n",
       "1  playin' everything so easy, it's like you seem...       258.0  \n",
       "2  If you search For tenderness It isn't hard to ...       170.0  \n",
       "3  Oh oh oh I, oh oh oh I [Verse 1:] If I wrote a...       522.0  \n",
       "4  Party the people, the people the party it's po...       312.0  "
      ]
     },
     "execution_count": 6,
     "metadata": {},
     "output_type": "execute_result"
    }
   ],
   "source": [
    "df.head()"
   ]
  },
  {
   "cell_type": "code",
   "execution_count": 7,
   "metadata": {},
   "outputs": [
    {
     "name": "stderr",
     "output_type": "stream",
     "text": [
      "C:\\Users\\Steven\\Anaconda3\\lib\\site-packages\\nltk\\twitter\\__init__.py:20: UserWarning: The twython library has not been installed. Some functionality from the twitter package will not be available.\n",
      "  warnings.warn(\"The twython library has not been installed. \"\n"
     ]
    }
   ],
   "source": [
    "from nltk.sentiment.vader import SentimentIntensityAnalyzer as SIA\n",
    "sid = SIA()\n",
    "df['compound_score'] = df['text'].apply(lambda x: sid.polarity_scores(x).get('compound'))\n",
    "#erstellt eine neue Spalte mit den compound score\n",
    "#score >= 0.5 positiv score <= -0.5 negativ und sonst neutraler Song"
   ]
  },
  {
   "cell_type": "code",
   "execution_count": 8,
   "metadata": {},
   "outputs": [
    {
     "data": {
      "text/html": [
       "<div>\n",
       "<style>\n",
       "    .dataframe thead tr:only-child th {\n",
       "        text-align: right;\n",
       "    }\n",
       "\n",
       "    .dataframe thead th {\n",
       "        text-align: left;\n",
       "    }\n",
       "\n",
       "    .dataframe tbody tr th {\n",
       "        vertical-align: top;\n",
       "    }\n",
       "</style>\n",
       "<table border=\"1\" class=\"dataframe\">\n",
       "  <thead>\n",
       "    <tr style=\"text-align: right;\">\n",
       "      <th></th>\n",
       "      <th>index</th>\n",
       "      <th>song</th>\n",
       "      <th>year</th>\n",
       "      <th>artist</th>\n",
       "      <th>genre</th>\n",
       "      <th>text</th>\n",
       "      <th>word_count</th>\n",
       "      <th>compound_score</th>\n",
       "    </tr>\n",
       "  </thead>\n",
       "  <tbody>\n",
       "    <tr>\n",
       "      <th>0</th>\n",
       "      <td>0</td>\n",
       "      <td>ego-remix</td>\n",
       "      <td>2009</td>\n",
       "      <td>beyonce-knowles</td>\n",
       "      <td>Pop</td>\n",
       "      <td>Oh baby, how you doing? You know I'm gonna cut...</td>\n",
       "      <td>433.0</td>\n",
       "      <td>0.9979</td>\n",
       "    </tr>\n",
       "    <tr>\n",
       "      <th>1</th>\n",
       "      <td>1</td>\n",
       "      <td>then-tell-me</td>\n",
       "      <td>2009</td>\n",
       "      <td>beyonce-knowles</td>\n",
       "      <td>Pop</td>\n",
       "      <td>playin' everything so easy, it's like you seem...</td>\n",
       "      <td>258.0</td>\n",
       "      <td>0.9658</td>\n",
       "    </tr>\n",
       "    <tr>\n",
       "      <th>2</th>\n",
       "      <td>2</td>\n",
       "      <td>honesty</td>\n",
       "      <td>2009</td>\n",
       "      <td>beyonce-knowles</td>\n",
       "      <td>Pop</td>\n",
       "      <td>If you search For tenderness It isn't hard to ...</td>\n",
       "      <td>170.0</td>\n",
       "      <td>0.9698</td>\n",
       "    </tr>\n",
       "    <tr>\n",
       "      <th>3</th>\n",
       "      <td>3</td>\n",
       "      <td>you-are-my-rock</td>\n",
       "      <td>2009</td>\n",
       "      <td>beyonce-knowles</td>\n",
       "      <td>Pop</td>\n",
       "      <td>Oh oh oh I, oh oh oh I [Verse 1:] If I wrote a...</td>\n",
       "      <td>522.0</td>\n",
       "      <td>0.9991</td>\n",
       "    </tr>\n",
       "    <tr>\n",
       "      <th>4</th>\n",
       "      <td>4</td>\n",
       "      <td>black-culture</td>\n",
       "      <td>2009</td>\n",
       "      <td>beyonce-knowles</td>\n",
       "      <td>Pop</td>\n",
       "      <td>Party the people, the people the party it's po...</td>\n",
       "      <td>312.0</td>\n",
       "      <td>0.8659</td>\n",
       "    </tr>\n",
       "  </tbody>\n",
       "</table>\n",
       "</div>"
      ],
      "text/plain": [
       "   index             song  year           artist genre  \\\n",
       "0      0        ego-remix  2009  beyonce-knowles   Pop   \n",
       "1      1     then-tell-me  2009  beyonce-knowles   Pop   \n",
       "2      2          honesty  2009  beyonce-knowles   Pop   \n",
       "3      3  you-are-my-rock  2009  beyonce-knowles   Pop   \n",
       "4      4    black-culture  2009  beyonce-knowles   Pop   \n",
       "\n",
       "                                                text  word_count  \\\n",
       "0  Oh baby, how you doing? You know I'm gonna cut...       433.0   \n",
       "1  playin' everything so easy, it's like you seem...       258.0   \n",
       "2  If you search For tenderness It isn't hard to ...       170.0   \n",
       "3  Oh oh oh I, oh oh oh I [Verse 1:] If I wrote a...       522.0   \n",
       "4  Party the people, the people the party it's po...       312.0   \n",
       "\n",
       "   compound_score  \n",
       "0          0.9979  \n",
       "1          0.9658  \n",
       "2          0.9698  \n",
       "3          0.9991  \n",
       "4          0.8659  "
      ]
     },
     "execution_count": 8,
     "metadata": {},
     "output_type": "execute_result"
    }
   ],
   "source": [
    "df.head()"
   ]
  },
  {
   "cell_type": "code",
   "execution_count": 9,
   "metadata": {
    "collapsed": true
   },
   "outputs": [],
   "source": [
    "def compound_score_counter(df,liste,category):\n",
    "    '''\n",
    "    Methode um ein Datenframe zu erstellen mit den Spalten Jahr,Anzahl negativer Songs,positiver Songs,neutraler Songs\n",
    "    in der Spaltenreihenfolge 0,1,2,3 == Jahr,Anzahl negativ, Anzahl positiv, Anzahl neutral\n",
    "    '''\n",
    "    dataframe = pd.DataFrame()\n",
    "    for items in liste:\n",
    "        liste = list([items,df[(df[category] == items )& (df['compound_score']<=-0.5)].apply(len)[0], df[(df[category] == items ) & (df['compound_score']>=0.5)].apply(len)[0],df[(df[category] == items )& ((df['compound_score']<0.5)|(df['compound_score']>-0.5))].apply(len)[0]]) \n",
    "        dataframe = dataframe.append(pd.DataFrame([liste]))\n",
    "    return dataframe"
   ]
  },
  {
   "cell_type": "code",
   "execution_count": 10,
   "metadata": {},
   "outputs": [
    {
     "data": {
      "text/html": [
       "<div>\n",
       "<style>\n",
       "    .dataframe thead tr:only-child th {\n",
       "        text-align: right;\n",
       "    }\n",
       "\n",
       "    .dataframe thead th {\n",
       "        text-align: left;\n",
       "    }\n",
       "\n",
       "    .dataframe tbody tr th {\n",
       "        vertical-align: top;\n",
       "    }\n",
       "</style>\n",
       "<table border=\"1\" class=\"dataframe\">\n",
       "  <thead>\n",
       "    <tr style=\"text-align: right;\">\n",
       "      <th></th>\n",
       "      <th>0</th>\n",
       "      <th>1</th>\n",
       "      <th>2</th>\n",
       "      <th>3</th>\n",
       "    </tr>\n",
       "  </thead>\n",
       "  <tbody>\n",
       "    <tr>\n",
       "      <th>0</th>\n",
       "      <td>Electronic</td>\n",
       "      <td>2141</td>\n",
       "      <td>4014</td>\n",
       "      <td>7518</td>\n",
       "    </tr>\n",
       "    <tr>\n",
       "      <th>0</th>\n",
       "      <td>Indie</td>\n",
       "      <td>951</td>\n",
       "      <td>1653</td>\n",
       "      <td>3102</td>\n",
       "    </tr>\n",
       "    <tr>\n",
       "      <th>0</th>\n",
       "      <td>Hip-Hop</td>\n",
       "      <td>13001</td>\n",
       "      <td>9953</td>\n",
       "      <td>24680</td>\n",
       "    </tr>\n",
       "    <tr>\n",
       "      <th>0</th>\n",
       "      <td>Rock</td>\n",
       "      <td>36586</td>\n",
       "      <td>54047</td>\n",
       "      <td>107261</td>\n",
       "    </tr>\n",
       "    <tr>\n",
       "      <th>0</th>\n",
       "      <td>Country</td>\n",
       "      <td>2769</td>\n",
       "      <td>9740</td>\n",
       "      <td>14299</td>\n",
       "    </tr>\n",
       "  </tbody>\n",
       "</table>\n",
       "</div>"
      ],
      "text/plain": [
       "            0      1      2       3\n",
       "0  Electronic   2141   4014    7518\n",
       "0       Indie    951   1653    3102\n",
       "0     Hip-Hop  13001   9953   24680\n",
       "0        Rock  36586  54047  107261\n",
       "0     Country   2769   9740   14299"
      ]
     },
     "execution_count": 10,
     "metadata": {},
     "output_type": "execute_result"
    }
   ],
   "source": [
    "yearList = list(set(df['year']))\n",
    "genreList = list(set(df['genre']))\n",
    "#erstellt eine Liste mit den Jahren und Genren\n",
    "\n",
    "counted_score_per_year = compound_score_counter(df,yearList,'year')\n",
    "counted_score_per_genre = compound_score_counter(df,genreList,'genre')\n",
    "#nutzt die oben definierte Funktion um einen Datenframe zu erstellen mit den Anzahl des auftauchens\n",
    "counted_score_per_genre.head()"
   ]
  },
  {
   "cell_type": "code",
   "execution_count": 11,
   "metadata": {},
   "outputs": [
    {
     "data": {
      "text/html": [
       "<div>\n",
       "<style>\n",
       "    .dataframe thead tr:only-child th {\n",
       "        text-align: right;\n",
       "    }\n",
       "\n",
       "    .dataframe thead th {\n",
       "        text-align: left;\n",
       "    }\n",
       "\n",
       "    .dataframe tbody tr th {\n",
       "        vertical-align: top;\n",
       "    }\n",
       "</style>\n",
       "<table border=\"1\" class=\"dataframe\">\n",
       "  <thead>\n",
       "    <tr style=\"text-align: right;\">\n",
       "      <th></th>\n",
       "      <th>0</th>\n",
       "      <th>1</th>\n",
       "      <th>2</th>\n",
       "      <th>3</th>\n",
       "    </tr>\n",
       "  </thead>\n",
       "  <tbody>\n",
       "    <tr>\n",
       "      <th>0</th>\n",
       "      <td>1970</td>\n",
       "      <td>35</td>\n",
       "      <td>106</td>\n",
       "      <td>165</td>\n",
       "    </tr>\n",
       "    <tr>\n",
       "      <th>0</th>\n",
       "      <td>1971</td>\n",
       "      <td>51</td>\n",
       "      <td>112</td>\n",
       "      <td>195</td>\n",
       "    </tr>\n",
       "    <tr>\n",
       "      <th>0</th>\n",
       "      <td>1972</td>\n",
       "      <td>39</td>\n",
       "      <td>127</td>\n",
       "      <td>190</td>\n",
       "    </tr>\n",
       "    <tr>\n",
       "      <th>0</th>\n",
       "      <td>1973</td>\n",
       "      <td>44</td>\n",
       "      <td>176</td>\n",
       "      <td>244</td>\n",
       "    </tr>\n",
       "    <tr>\n",
       "      <th>0</th>\n",
       "      <td>1974</td>\n",
       "      <td>42</td>\n",
       "      <td>80</td>\n",
       "      <td>159</td>\n",
       "    </tr>\n",
       "  </tbody>\n",
       "</table>\n",
       "</div>"
      ],
      "text/plain": [
       "      0   1    2    3\n",
       "0  1970  35  106  165\n",
       "0  1971  51  112  195\n",
       "0  1972  39  127  190\n",
       "0  1973  44  176  244\n",
       "0  1974  42   80  159"
      ]
     },
     "execution_count": 11,
     "metadata": {},
     "output_type": "execute_result"
    }
   ],
   "source": [
    "counted_score_per_year.head()"
   ]
  },
  {
   "cell_type": "code",
   "execution_count": 12,
   "metadata": {},
   "outputs": [
    {
     "data": {
      "text/html": [
       "<div>\n",
       "<style>\n",
       "    .dataframe thead tr:only-child th {\n",
       "        text-align: right;\n",
       "    }\n",
       "\n",
       "    .dataframe thead th {\n",
       "        text-align: left;\n",
       "    }\n",
       "\n",
       "    .dataframe tbody tr th {\n",
       "        vertical-align: top;\n",
       "    }\n",
       "</style>\n",
       "<table border=\"1\" class=\"dataframe\">\n",
       "  <thead>\n",
       "    <tr style=\"text-align: right;\">\n",
       "      <th></th>\n",
       "      <th>negativ</th>\n",
       "      <th>positiv</th>\n",
       "      <th>neutral</th>\n",
       "      <th>year</th>\n",
       "    </tr>\n",
       "  </thead>\n",
       "  <tbody>\n",
       "    <tr>\n",
       "      <th>0</th>\n",
       "      <td>0.114379</td>\n",
       "      <td>0.346405</td>\n",
       "      <td>0.539216</td>\n",
       "      <td>1970</td>\n",
       "    </tr>\n",
       "    <tr>\n",
       "      <th>0</th>\n",
       "      <td>0.142458</td>\n",
       "      <td>0.312849</td>\n",
       "      <td>0.544693</td>\n",
       "      <td>1971</td>\n",
       "    </tr>\n",
       "    <tr>\n",
       "      <th>0</th>\n",
       "      <td>0.109551</td>\n",
       "      <td>0.356742</td>\n",
       "      <td>0.533708</td>\n",
       "      <td>1972</td>\n",
       "    </tr>\n",
       "    <tr>\n",
       "      <th>0</th>\n",
       "      <td>0.094828</td>\n",
       "      <td>0.379310</td>\n",
       "      <td>0.525862</td>\n",
       "      <td>1973</td>\n",
       "    </tr>\n",
       "    <tr>\n",
       "      <th>0</th>\n",
       "      <td>0.149466</td>\n",
       "      <td>0.284698</td>\n",
       "      <td>0.565836</td>\n",
       "      <td>1974</td>\n",
       "    </tr>\n",
       "  </tbody>\n",
       "</table>\n",
       "</div>"
      ],
      "text/plain": [
       "    negativ   positiv   neutral  year\n",
       "0  0.114379  0.346405  0.539216  1970\n",
       "0  0.142458  0.312849  0.544693  1971\n",
       "0  0.109551  0.356742  0.533708  1972\n",
       "0  0.094828  0.379310  0.525862  1973\n",
       "0  0.149466  0.284698  0.565836  1974"
      ]
     },
     "execution_count": 12,
     "metadata": {},
     "output_type": "execute_result"
    }
   ],
   "source": [
    "counted_score_without_year = pd.DataFrame()\n",
    "counted_score_without_year[['negativ','positiv','neutral']] = counted_score_per_year[counted_score_per_year.columns[1:4]]\n",
    "\n",
    "average1 = counted_score_without_year.divide(counted_score_without_year.sum(axis=1), axis=0)\n",
    "average1['year'] = counted_score_per_year[counted_score_per_year.columns[:1]]\n",
    "average1.head()\n",
    "\n",
    "#hier wird ein Datenframe average erstellt mit dem Prozentuallen Anteil in jeder Zeile\n",
    "#im unseren Fall wird jedes Jahr der Prozentualler Anteil berechnet"
   ]
  },
  {
   "cell_type": "code",
   "execution_count": 13,
   "metadata": {},
   "outputs": [
    {
     "data": {
      "text/html": [
       "<div>\n",
       "<style>\n",
       "    .dataframe thead tr:only-child th {\n",
       "        text-align: right;\n",
       "    }\n",
       "\n",
       "    .dataframe thead th {\n",
       "        text-align: left;\n",
       "    }\n",
       "\n",
       "    .dataframe tbody tr th {\n",
       "        vertical-align: top;\n",
       "    }\n",
       "</style>\n",
       "<table border=\"1\" class=\"dataframe\">\n",
       "  <thead>\n",
       "    <tr style=\"text-align: right;\">\n",
       "      <th></th>\n",
       "      <th>negativ</th>\n",
       "      <th>positiv</th>\n",
       "      <th>neutral</th>\n",
       "      <th>genre</th>\n",
       "    </tr>\n",
       "  </thead>\n",
       "  <tbody>\n",
       "    <tr>\n",
       "      <th>0</th>\n",
       "      <td>0.156586</td>\n",
       "      <td>0.293571</td>\n",
       "      <td>0.549843</td>\n",
       "      <td>Electronic</td>\n",
       "    </tr>\n",
       "    <tr>\n",
       "      <th>0</th>\n",
       "      <td>0.166667</td>\n",
       "      <td>0.289695</td>\n",
       "      <td>0.543638</td>\n",
       "      <td>Indie</td>\n",
       "    </tr>\n",
       "    <tr>\n",
       "      <th>0</th>\n",
       "      <td>0.272935</td>\n",
       "      <td>0.208947</td>\n",
       "      <td>0.518117</td>\n",
       "      <td>Hip-Hop</td>\n",
       "    </tr>\n",
       "    <tr>\n",
       "      <th>0</th>\n",
       "      <td>0.184877</td>\n",
       "      <td>0.273111</td>\n",
       "      <td>0.542012</td>\n",
       "      <td>Rock</td>\n",
       "    </tr>\n",
       "    <tr>\n",
       "      <th>0</th>\n",
       "      <td>0.103290</td>\n",
       "      <td>0.363324</td>\n",
       "      <td>0.533386</td>\n",
       "      <td>Country</td>\n",
       "    </tr>\n",
       "  </tbody>\n",
       "</table>\n",
       "</div>"
      ],
      "text/plain": [
       "    negativ   positiv   neutral       genre\n",
       "0  0.156586  0.293571  0.549843  Electronic\n",
       "0  0.166667  0.289695  0.543638       Indie\n",
       "0  0.272935  0.208947  0.518117     Hip-Hop\n",
       "0  0.184877  0.273111  0.542012        Rock\n",
       "0  0.103290  0.363324  0.533386     Country"
      ]
     },
     "execution_count": 13,
     "metadata": {},
     "output_type": "execute_result"
    }
   ],
   "source": [
    "counted_score_without_genre = pd.DataFrame()\n",
    "counted_score_without_genre[['negativ','positiv','neutral']] = counted_score_per_genre[counted_score_per_year.columns[1:4]]\n",
    "\n",
    "average2 = counted_score_without_genre.divide(counted_score_without_genre.sum(axis=1), axis=0)\n",
    "average2['genre'] = counted_score_per_genre[counted_score_per_genre.columns[:1]]\n",
    "average2.head()\n",
    "#hier wird ein Datenframe average erstellt mit dem Prozentuallen Anteil in jeder Zeile\n",
    "#im unseren Fall wird in jeder Genre der Prozentualler Anteil berechnet"
   ]
  },
  {
   "cell_type": "code",
   "execution_count": 14,
   "metadata": {},
   "outputs": [
    {
     "data": {
      "image/png": "[encoded data removed]",
      "text/plain": [
       "<matplotlib.figure.Figure at 0x1e781865550>"
      ]
     },
     "metadata": {},
     "output_type": "display_data"
    }
   ],
   "source": [
    "import numpy as np\n",
    "import matplotlib.pyplot as plt\n",
    "\n",
    "colors = [\"#006D2C\", \"#31A354\",\"#74C476\"]\n",
    "ax = average1.plot.bar(x = 'year', y = ['negativ','neutral','positiv'], stacked=True, color=colors, figsize=(15,10),fontsize=12,title='Prozentualler Anteil negativer,positiver,neutraler Lieder')\n",
    "ax.set_xlabel(\"Jahr\", fontsize=15)\n",
    "ax.set_ylabel(\"Anzahl der Wörter\", fontsize=15)\n",
    "plt.show()"
   ]
  },
  {
   "cell_type": "code",
   "execution_count": 15,
   "metadata": {},
   "outputs": [
    {
     "data": {
      "image/png": "[encoded data removed]",
      "text/plain": [
       "<matplotlib.figure.Figure at 0x1e7830f5c88>"
      ]
     },
     "metadata": {},
     "output_type": "display_data"
    }
   ],
   "source": [
    "colors = [\"#006D2C\", \"#31A354\",\"#74C476\"]\n",
    "ax = average2.plot.bar(x = 'genre', y = ['negativ','neutral','positiv'], stacked=True, color=colors, figsize=(15,10),fontsize=12,title='Prozentualler Anteil negativer,positiver,neutraler Lieder')\n",
    "ax.set_xlabel(\"Jahr\", fontsize=15)\n",
    "ax.set_ylabel(\"Anzahl der Wörter\", fontsize=15)\n",
    "plt.show()"
   ]
  },
  {
   "cell_type": "code",
   "execution_count": 16,
   "metadata": {},
   "outputs": [
    {
     "data": {
      "image/png": "[encoded data removed]",
      "text/plain": [
       "<matplotlib.figure.Figure at 0x1e783692780>"
      ]
     },
     "metadata": {},
     "output_type": "display_data"
    }
   ],
   "source": [
    "colors = [\"#006D2C\", \"#31A354\",\"#74C476\"]\n",
    "ax = average1.plot.bar(x = 'year', y = ['negativ','positiv'], stacked=True, color=colors, figsize=(15,10),fontsize=12,title='Prozentualler Anteil negativer,positiver,neutraler Lieder')\n",
    "ax.set_xlabel(\"Jahr\", fontsize=15)\n",
    "ax.set_ylabel(\"Anzahl der Wörter\", fontsize=15)\n",
    "plt.show()"
   ]
  },
  {
   "cell_type": "code",
   "execution_count": 17,
   "metadata": {},
   "outputs": [
    {
     "data": {
      "image/png": "[encoded data removed]",
      "text/plain": [
       "<matplotlib.figure.Figure at 0x1e7830fe550>"
      ]
     },
     "metadata": {},
     "output_type": "display_data"
    }
   ],
   "source": [
    "colors = [\"#006D2C\", \"#31A354\",\"#74C476\"]\n",
    "ax = average2.plot.bar(x = 'genre', y = ['negativ','positiv'], stacked=True, color=colors, figsize=(15,10),fontsize=12,title='Prozentualler Anteil negativer,positiver,neutraler Lieder')\n",
    "ax.set_xlabel(\"Jahr\", fontsize=15)\n",
    "ax.set_ylabel(\"Anzahl der Wörter\", fontsize=15)\n",
    "plt.show()"
   ]
  }
 ],
 "metadata": {
  "kernelspec": {
   "display_name": "Python 3",
   "language": "python",
   "name": "python3"
  },
  "language_info": {
   "codemirror_mode": {
    "name": "ipython",
    "version": 3
   },
   "file_extension": ".py",
   "mimetype": "text/x-python",
   "name": "python",
   "nbconvert_exporter": "python",
   "pygments_lexer": "ipython3",
   "version": "3.6.3"
  }
 },
 "nbformat": 4,
 "nbformat_minor": 2
}
