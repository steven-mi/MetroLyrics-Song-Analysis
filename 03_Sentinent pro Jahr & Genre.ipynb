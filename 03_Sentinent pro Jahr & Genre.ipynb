{
 "cells": [
  {
   "cell_type": "code",
   "execution_count": 1,
   "metadata": {
    "collapsed": true
   },
   "outputs": [],
   "source": [
    "import pandas as pd\n",
    "df = pd.read_csv('lyrics_clean_utf8.csv')"
   ]
  },
  {
   "cell_type": "code",
   "execution_count": 2,
   "metadata": {},
   "outputs": [
    {
     "data": {
      "text/html": [
       "<div>\n",
       "<style>\n",
       "    .dataframe thead tr:only-child th {\n",
       "        text-align: right;\n",
       "    }\n",
       "\n",
       "    .dataframe thead th {\n",
       "        text-align: left;\n",
       "    }\n",
       "\n",
       "    .dataframe tbody tr th {\n",
       "        vertical-align: top;\n",
       "    }\n",
       "</style>\n",
       "<table border=\"1\" class=\"dataframe\">\n",
       "  <thead>\n",
       "    <tr style=\"text-align: right;\">\n",
       "      <th></th>\n",
       "      <th>Unnamed: 0</th>\n",
       "      <th>song</th>\n",
       "      <th>year</th>\n",
       "      <th>genre</th>\n",
       "      <th>word_tokenize_no_punctuation</th>\n",
       "      <th>word_tokenize_length</th>\n",
       "      <th>word_tokenize_no_stopwords</th>\n",
       "    </tr>\n",
       "  </thead>\n",
       "  <tbody>\n",
       "    <tr>\n",
       "      <th>0</th>\n",
       "      <td>0</td>\n",
       "      <td>ego-remix</td>\n",
       "      <td>2009</td>\n",
       "      <td>Pop</td>\n",
       "      <td>[oh, baby, how, you, doing, you, know, i, m, g...</td>\n",
       "      <td>474</td>\n",
       "      <td>['oh', 'baby', 'know', \"'m\", 'gon', 'na', 'cut...</td>\n",
       "    </tr>\n",
       "    <tr>\n",
       "      <th>1</th>\n",
       "      <td>1</td>\n",
       "      <td>then-tell-me</td>\n",
       "      <td>2009</td>\n",
       "      <td>Pop</td>\n",
       "      <td>[playin, everything, so, easy, it, s, like, yo...</td>\n",
       "      <td>270</td>\n",
       "      <td>['playin', 'everything', 'easy', \"'s\", 'like',...</td>\n",
       "    </tr>\n",
       "    <tr>\n",
       "      <th>2</th>\n",
       "      <td>2</td>\n",
       "      <td>honesty</td>\n",
       "      <td>2009</td>\n",
       "      <td>Pop</td>\n",
       "      <td>[if, you, search, for, tenderness, it, is, nt,...</td>\n",
       "      <td>177</td>\n",
       "      <td>['search', 'tenderness', \"n't\", 'hard', 'find'...</td>\n",
       "    </tr>\n",
       "    <tr>\n",
       "      <th>3</th>\n",
       "      <td>3</td>\n",
       "      <td>you-are-my-rock</td>\n",
       "      <td>2009</td>\n",
       "      <td>Pop</td>\n",
       "      <td>[oh, oh, oh, i, oh, oh, oh, i, verse, 1, if, i...</td>\n",
       "      <td>555</td>\n",
       "      <td>['oh', 'oh', 'oh', 'oh', 'oh', 'oh', 'verse', ...</td>\n",
       "    </tr>\n",
       "    <tr>\n",
       "      <th>4</th>\n",
       "      <td>4</td>\n",
       "      <td>black-culture</td>\n",
       "      <td>2009</td>\n",
       "      <td>Pop</td>\n",
       "      <td>[party, the, people, the, people, the, party, ...</td>\n",
       "      <td>338</td>\n",
       "      <td>['party', 'people', 'people', 'party', \"'s\", '...</td>\n",
       "    </tr>\n",
       "  </tbody>\n",
       "</table>\n",
       "</div>"
      ],
      "text/plain": [
       "   Unnamed: 0             song  year genre  \\\n",
       "0           0        ego-remix  2009   Pop   \n",
       "1           1     then-tell-me  2009   Pop   \n",
       "2           2          honesty  2009   Pop   \n",
       "3           3  you-are-my-rock  2009   Pop   \n",
       "4           4    black-culture  2009   Pop   \n",
       "\n",
       "                        word_tokenize_no_punctuation  word_tokenize_length  \\\n",
       "0  [oh, baby, how, you, doing, you, know, i, m, g...                   474   \n",
       "1  [playin, everything, so, easy, it, s, like, yo...                   270   \n",
       "2  [if, you, search, for, tenderness, it, is, nt,...                   177   \n",
       "3  [oh, oh, oh, i, oh, oh, oh, i, verse, 1, if, i...                   555   \n",
       "4  [party, the, people, the, people, the, party, ...                   338   \n",
       "\n",
       "                          word_tokenize_no_stopwords  \n",
       "0  ['oh', 'baby', 'know', \"'m\", 'gon', 'na', 'cut...  \n",
       "1  ['playin', 'everything', 'easy', \"'s\", 'like',...  \n",
       "2  ['search', 'tenderness', \"n't\", 'hard', 'find'...  \n",
       "3  ['oh', 'oh', 'oh', 'oh', 'oh', 'oh', 'verse', ...  \n",
       "4  ['party', 'people', 'people', 'party', \"'s\", '...  "
      ]
     },
     "execution_count": 2,
     "metadata": {},
     "output_type": "execute_result"
    }
   ],
   "source": [
    "df['word_tokenize_no_punctuation'] = df['word_tokenize_no_punctuation'].str.replace(\"'\",'')\n",
    "df['word_tokenize_no_punctuation'] = df['word_tokenize_no_punctuation'].str.replace('\"','')\n",
    "df.head()"
   ]
  },
  {
   "cell_type": "code",
   "execution_count": 3,
   "metadata": {},
   "outputs": [
    {
     "name": "stderr",
     "output_type": "stream",
     "text": [
      "C:\\Users\\Steven\\Anaconda3\\lib\\site-packages\\nltk\\twitter\\__init__.py:20: UserWarning: The twython library has not been installed. Some functionality from the twitter package will not be available.\n",
      "  warnings.warn(\"The twython library has not been installed. \"\n"
     ]
    }
   ],
   "source": [
    "from nltk.sentiment.vader import SentimentIntensityAnalyzer as SIA\n",
    "sid = SIA()\n",
    "df['compound_score'] = df['word_tokenize_no_punctuation'].apply(lambda x: sid.polarity_scores(x).get('compound'))\n",
    "#erstellt eine neue Spalte mit den compound score\n",
    "#score >= 0.5 positiv score <= -0.5 negativ und sonst neutraler Song"
   ]
  },
  {
   "cell_type": "code",
   "execution_count": 4,
   "metadata": {},
   "outputs": [
    {
     "data": {
      "text/html": [
       "<div>\n",
       "<style>\n",
       "    .dataframe thead tr:only-child th {\n",
       "        text-align: right;\n",
       "    }\n",
       "\n",
       "    .dataframe thead th {\n",
       "        text-align: left;\n",
       "    }\n",
       "\n",
       "    .dataframe tbody tr th {\n",
       "        vertical-align: top;\n",
       "    }\n",
       "</style>\n",
       "<table border=\"1\" class=\"dataframe\">\n",
       "  <thead>\n",
       "    <tr style=\"text-align: right;\">\n",
       "      <th></th>\n",
       "      <th>Unnamed: 0</th>\n",
       "      <th>song</th>\n",
       "      <th>year</th>\n",
       "      <th>genre</th>\n",
       "      <th>word_tokenize_no_punctuation</th>\n",
       "      <th>word_tokenize_length</th>\n",
       "      <th>word_tokenize_no_stopwords</th>\n",
       "      <th>compound_score</th>\n",
       "    </tr>\n",
       "  </thead>\n",
       "  <tbody>\n",
       "    <tr>\n",
       "      <th>0</th>\n",
       "      <td>0</td>\n",
       "      <td>ego-remix</td>\n",
       "      <td>2009</td>\n",
       "      <td>Pop</td>\n",
       "      <td>[oh, baby, how, you, doing, you, know, i, m, g...</td>\n",
       "      <td>474</td>\n",
       "      <td>['oh', 'baby', 'know', \"'m\", 'gon', 'na', 'cut...</td>\n",
       "      <td>0.9983</td>\n",
       "    </tr>\n",
       "    <tr>\n",
       "      <th>1</th>\n",
       "      <td>1</td>\n",
       "      <td>then-tell-me</td>\n",
       "      <td>2009</td>\n",
       "      <td>Pop</td>\n",
       "      <td>[playin, everything, so, easy, it, s, like, yo...</td>\n",
       "      <td>270</td>\n",
       "      <td>['playin', 'everything', 'easy', \"'s\", 'like',...</td>\n",
       "      <td>0.9893</td>\n",
       "    </tr>\n",
       "    <tr>\n",
       "      <th>2</th>\n",
       "      <td>2</td>\n",
       "      <td>honesty</td>\n",
       "      <td>2009</td>\n",
       "      <td>Pop</td>\n",
       "      <td>[if, you, search, for, tenderness, it, is, nt,...</td>\n",
       "      <td>177</td>\n",
       "      <td>['search', 'tenderness', \"n't\", 'hard', 'find'...</td>\n",
       "      <td>0.9860</td>\n",
       "    </tr>\n",
       "    <tr>\n",
       "      <th>3</th>\n",
       "      <td>3</td>\n",
       "      <td>you-are-my-rock</td>\n",
       "      <td>2009</td>\n",
       "      <td>Pop</td>\n",
       "      <td>[oh, oh, oh, i, oh, oh, oh, i, verse, 1, if, i...</td>\n",
       "      <td>555</td>\n",
       "      <td>['oh', 'oh', 'oh', 'oh', 'oh', 'oh', 'verse', ...</td>\n",
       "      <td>0.9993</td>\n",
       "    </tr>\n",
       "    <tr>\n",
       "      <th>4</th>\n",
       "      <td>4</td>\n",
       "      <td>black-culture</td>\n",
       "      <td>2009</td>\n",
       "      <td>Pop</td>\n",
       "      <td>[party, the, people, the, people, the, party, ...</td>\n",
       "      <td>338</td>\n",
       "      <td>['party', 'people', 'people', 'party', \"'s\", '...</td>\n",
       "      <td>-0.9493</td>\n",
       "    </tr>\n",
       "  </tbody>\n",
       "</table>\n",
       "</div>"
      ],
      "text/plain": [
       "   Unnamed: 0             song  year genre  \\\n",
       "0           0        ego-remix  2009   Pop   \n",
       "1           1     then-tell-me  2009   Pop   \n",
       "2           2          honesty  2009   Pop   \n",
       "3           3  you-are-my-rock  2009   Pop   \n",
       "4           4    black-culture  2009   Pop   \n",
       "\n",
       "                        word_tokenize_no_punctuation  word_tokenize_length  \\\n",
       "0  [oh, baby, how, you, doing, you, know, i, m, g...                   474   \n",
       "1  [playin, everything, so, easy, it, s, like, yo...                   270   \n",
       "2  [if, you, search, for, tenderness, it, is, nt,...                   177   \n",
       "3  [oh, oh, oh, i, oh, oh, oh, i, verse, 1, if, i...                   555   \n",
       "4  [party, the, people, the, people, the, party, ...                   338   \n",
       "\n",
       "                          word_tokenize_no_stopwords  compound_score  \n",
       "0  ['oh', 'baby', 'know', \"'m\", 'gon', 'na', 'cut...          0.9983  \n",
       "1  ['playin', 'everything', 'easy', \"'s\", 'like',...          0.9893  \n",
       "2  ['search', 'tenderness', \"n't\", 'hard', 'find'...          0.9860  \n",
       "3  ['oh', 'oh', 'oh', 'oh', 'oh', 'oh', 'verse', ...          0.9993  \n",
       "4  ['party', 'people', 'people', 'party', \"'s\", '...         -0.9493  "
      ]
     },
     "execution_count": 4,
     "metadata": {},
     "output_type": "execute_result"
    }
   ],
   "source": [
    "df.head()"
   ]
  },
  {
   "cell_type": "code",
   "execution_count": 5,
   "metadata": {},
   "outputs": [],
   "source": [
    "def compound_score_counter(df,liste,category):\n",
    "    '''\n",
    "    Methode um ein Datenframe zu erstellen mit den Spalten Jahr,Anzahl negativer Songs,positiver Songs,neutraler Songs\n",
    "    in der Spaltenreihenfolge 0,1,2,3 == Jahr,Anzahl negativ, Anzahl positiv, Anzahl neutral\n",
    "    '''\n",
    "    dataframe = pd.DataFrame()\n",
    "    for items in liste:\n",
    "        liste = list([items,df[(df[category] == items )& (df['compound_score']<=-0.5)].apply(len)[0], df[(df[category] == items ) & (df['compound_score']>=0.5)].apply(len)[0],df[(df[category] == items )& ((df['compound_score']<0.5)|(df['compound_score']>-0.5))].apply(len)[0]]) \n",
    "        dataframe = dataframe.append(pd.DataFrame([liste]))\n",
    "    return dataframe"
   ]
  },
  {
   "cell_type": "code",
   "execution_count": 6,
   "metadata": {},
   "outputs": [
    {
     "data": {
      "text/html": [
       "<div>\n",
       "<style>\n",
       "    .dataframe thead tr:only-child th {\n",
       "        text-align: right;\n",
       "    }\n",
       "\n",
       "    .dataframe thead th {\n",
       "        text-align: left;\n",
       "    }\n",
       "\n",
       "    .dataframe tbody tr th {\n",
       "        vertical-align: top;\n",
       "    }\n",
       "</style>\n",
       "<table border=\"1\" class=\"dataframe\">\n",
       "  <thead>\n",
       "    <tr style=\"text-align: right;\">\n",
       "      <th></th>\n",
       "      <th>0</th>\n",
       "      <th>1</th>\n",
       "      <th>2</th>\n",
       "      <th>3</th>\n",
       "    </tr>\n",
       "  </thead>\n",
       "  <tbody>\n",
       "    <tr>\n",
       "      <th>0</th>\n",
       "      <td>Pop</td>\n",
       "      <td>9800</td>\n",
       "      <td>25036</td>\n",
       "      <td>40139</td>\n",
       "    </tr>\n",
       "    <tr>\n",
       "      <th>0</th>\n",
       "      <td>Indie</td>\n",
       "      <td>917</td>\n",
       "      <td>1647</td>\n",
       "      <td>3097</td>\n",
       "    </tr>\n",
       "    <tr>\n",
       "      <th>0</th>\n",
       "      <td>Hip-Hop</td>\n",
       "      <td>13472</td>\n",
       "      <td>9217</td>\n",
       "      <td>24573</td>\n",
       "    </tr>\n",
       "    <tr>\n",
       "      <th>0</th>\n",
       "      <td>Folk</td>\n",
       "      <td>500</td>\n",
       "      <td>1107</td>\n",
       "      <td>2077</td>\n",
       "    </tr>\n",
       "    <tr>\n",
       "      <th>0</th>\n",
       "      <td>Metal</td>\n",
       "      <td>14162</td>\n",
       "      <td>5079</td>\n",
       "      <td>22569</td>\n",
       "    </tr>\n",
       "  </tbody>\n",
       "</table>\n",
       "</div>"
      ],
      "text/plain": [
       "         0      1      2      3\n",
       "0      Pop   9800  25036  40139\n",
       "0    Indie    917   1647   3097\n",
       "0  Hip-Hop  13472   9217  24573\n",
       "0     Folk    500   1107   2077\n",
       "0    Metal  14162   5079  22569"
      ]
     },
     "execution_count": 6,
     "metadata": {},
     "output_type": "execute_result"
    }
   ],
   "source": [
    "yearList = list(set(df['year']))\n",
    "genreList = list(set(df['genre']))\n",
    "#erstellt eine Liste mit den Jahren und Genren\n",
    "\n",
    "counted_score_per_year = compound_score_counter(df,yearList,'year')\n",
    "counted_score_per_genre = compound_score_counter(df,genreList,'genre')\n",
    "#nutzt die oben definierte Funktion um einen Datenframe zu erstellen mit den Anzahl des auftauchens\n",
    "counted_score_per_genre.head()"
   ]
  },
  {
   "cell_type": "code",
   "execution_count": 7,
   "metadata": {},
   "outputs": [
    {
     "data": {
      "text/html": [
       "<div>\n",
       "<style>\n",
       "    .dataframe thead tr:only-child th {\n",
       "        text-align: right;\n",
       "    }\n",
       "\n",
       "    .dataframe thead th {\n",
       "        text-align: left;\n",
       "    }\n",
       "\n",
       "    .dataframe tbody tr th {\n",
       "        vertical-align: top;\n",
       "    }\n",
       "</style>\n",
       "<table border=\"1\" class=\"dataframe\">\n",
       "  <thead>\n",
       "    <tr style=\"text-align: right;\">\n",
       "      <th></th>\n",
       "      <th>0</th>\n",
       "      <th>1</th>\n",
       "      <th>2</th>\n",
       "      <th>3</th>\n",
       "    </tr>\n",
       "  </thead>\n",
       "  <tbody>\n",
       "    <tr>\n",
       "      <th>0</th>\n",
       "      <td>1970</td>\n",
       "      <td>41</td>\n",
       "      <td>101</td>\n",
       "      <td>165</td>\n",
       "    </tr>\n",
       "    <tr>\n",
       "      <th>0</th>\n",
       "      <td>1971</td>\n",
       "      <td>51</td>\n",
       "      <td>112</td>\n",
       "      <td>195</td>\n",
       "    </tr>\n",
       "    <tr>\n",
       "      <th>0</th>\n",
       "      <td>1972</td>\n",
       "      <td>49</td>\n",
       "      <td>113</td>\n",
       "      <td>190</td>\n",
       "    </tr>\n",
       "    <tr>\n",
       "      <th>0</th>\n",
       "      <td>1973</td>\n",
       "      <td>48</td>\n",
       "      <td>170</td>\n",
       "      <td>244</td>\n",
       "    </tr>\n",
       "    <tr>\n",
       "      <th>0</th>\n",
       "      <td>1974</td>\n",
       "      <td>42</td>\n",
       "      <td>82</td>\n",
       "      <td>158</td>\n",
       "    </tr>\n",
       "  </tbody>\n",
       "</table>\n",
       "</div>"
      ],
      "text/plain": [
       "      0   1    2    3\n",
       "0  1970  41  101  165\n",
       "0  1971  51  112  195\n",
       "0  1972  49  113  190\n",
       "0  1973  48  170  244\n",
       "0  1974  42   82  158"
      ]
     },
     "execution_count": 7,
     "metadata": {},
     "output_type": "execute_result"
    }
   ],
   "source": [
    "counted_score_per_year.head()"
   ]
  },
  {
   "cell_type": "code",
   "execution_count": 8,
   "metadata": {},
   "outputs": [
    {
     "data": {
      "text/html": [
       "<div>\n",
       "<style>\n",
       "    .dataframe thead tr:only-child th {\n",
       "        text-align: right;\n",
       "    }\n",
       "\n",
       "    .dataframe thead th {\n",
       "        text-align: left;\n",
       "    }\n",
       "\n",
       "    .dataframe tbody tr th {\n",
       "        vertical-align: top;\n",
       "    }\n",
       "</style>\n",
       "<table border=\"1\" class=\"dataframe\">\n",
       "  <thead>\n",
       "    <tr style=\"text-align: right;\">\n",
       "      <th></th>\n",
       "      <th>negativ</th>\n",
       "      <th>positiv</th>\n",
       "      <th>neutral</th>\n",
       "      <th>year</th>\n",
       "    </tr>\n",
       "  </thead>\n",
       "  <tbody>\n",
       "    <tr>\n",
       "      <th>0</th>\n",
       "      <td>0.133550</td>\n",
       "      <td>0.328990</td>\n",
       "      <td>0.537459</td>\n",
       "      <td>1970</td>\n",
       "    </tr>\n",
       "    <tr>\n",
       "      <th>0</th>\n",
       "      <td>0.142458</td>\n",
       "      <td>0.312849</td>\n",
       "      <td>0.544693</td>\n",
       "      <td>1971</td>\n",
       "    </tr>\n",
       "    <tr>\n",
       "      <th>0</th>\n",
       "      <td>0.139205</td>\n",
       "      <td>0.321023</td>\n",
       "      <td>0.539773</td>\n",
       "      <td>1972</td>\n",
       "    </tr>\n",
       "    <tr>\n",
       "      <th>0</th>\n",
       "      <td>0.103896</td>\n",
       "      <td>0.367965</td>\n",
       "      <td>0.528139</td>\n",
       "      <td>1973</td>\n",
       "    </tr>\n",
       "    <tr>\n",
       "      <th>0</th>\n",
       "      <td>0.148936</td>\n",
       "      <td>0.290780</td>\n",
       "      <td>0.560284</td>\n",
       "      <td>1974</td>\n",
       "    </tr>\n",
       "  </tbody>\n",
       "</table>\n",
       "</div>"
      ],
      "text/plain": [
       "    negativ   positiv   neutral  year\n",
       "0  0.133550  0.328990  0.537459  1970\n",
       "0  0.142458  0.312849  0.544693  1971\n",
       "0  0.139205  0.321023  0.539773  1972\n",
       "0  0.103896  0.367965  0.528139  1973\n",
       "0  0.148936  0.290780  0.560284  1974"
      ]
     },
     "execution_count": 8,
     "metadata": {},
     "output_type": "execute_result"
    }
   ],
   "source": [
    "counted_score_without_year = pd.DataFrame()\n",
    "counted_score_without_year[['negativ','positiv','neutral']] = counted_score_per_year[counted_score_per_year.columns[1:4]]\n",
    "\n",
    "average1 = counted_score_without_year.divide(counted_score_without_year.sum(axis=1), axis=0)\n",
    "average1['year'] = counted_score_per_year[counted_score_per_year.columns[:1]]\n",
    "average1.head()\n",
    "\n",
    "#hier wird ein Datenframe average erstellt mit dem Prozentuallen Anteil in jeder Zeile\n",
    "#im unseren Fall wird jedes Jahr der Prozentualler Anteil berechnet"
   ]
  },
  {
   "cell_type": "code",
   "execution_count": 9,
   "metadata": {},
   "outputs": [
    {
     "data": {
      "text/html": [
       "<div>\n",
       "<style>\n",
       "    .dataframe thead tr:only-child th {\n",
       "        text-align: right;\n",
       "    }\n",
       "\n",
       "    .dataframe thead th {\n",
       "        text-align: left;\n",
       "    }\n",
       "\n",
       "    .dataframe tbody tr th {\n",
       "        vertical-align: top;\n",
       "    }\n",
       "</style>\n",
       "<table border=\"1\" class=\"dataframe\">\n",
       "  <thead>\n",
       "    <tr style=\"text-align: right;\">\n",
       "      <th></th>\n",
       "      <th>negativ</th>\n",
       "      <th>positiv</th>\n",
       "      <th>neutral</th>\n",
       "      <th>genre</th>\n",
       "    </tr>\n",
       "  </thead>\n",
       "  <tbody>\n",
       "    <tr>\n",
       "      <th>0</th>\n",
       "      <td>0.130710</td>\n",
       "      <td>0.333925</td>\n",
       "      <td>0.535365</td>\n",
       "      <td>Pop</td>\n",
       "    </tr>\n",
       "    <tr>\n",
       "      <th>0</th>\n",
       "      <td>0.161986</td>\n",
       "      <td>0.290938</td>\n",
       "      <td>0.547076</td>\n",
       "      <td>Indie</td>\n",
       "    </tr>\n",
       "    <tr>\n",
       "      <th>0</th>\n",
       "      <td>0.285049</td>\n",
       "      <td>0.195019</td>\n",
       "      <td>0.519931</td>\n",
       "      <td>Hip-Hop</td>\n",
       "    </tr>\n",
       "    <tr>\n",
       "      <th>0</th>\n",
       "      <td>0.135722</td>\n",
       "      <td>0.300489</td>\n",
       "      <td>0.563789</td>\n",
       "      <td>Folk</td>\n",
       "    </tr>\n",
       "    <tr>\n",
       "      <th>0</th>\n",
       "      <td>0.338723</td>\n",
       "      <td>0.121478</td>\n",
       "      <td>0.539799</td>\n",
       "      <td>Metal</td>\n",
       "    </tr>\n",
       "  </tbody>\n",
       "</table>\n",
       "</div>"
      ],
      "text/plain": [
       "    negativ   positiv   neutral    genre\n",
       "0  0.130710  0.333925  0.535365      Pop\n",
       "0  0.161986  0.290938  0.547076    Indie\n",
       "0  0.285049  0.195019  0.519931  Hip-Hop\n",
       "0  0.135722  0.300489  0.563789     Folk\n",
       "0  0.338723  0.121478  0.539799    Metal"
      ]
     },
     "execution_count": 9,
     "metadata": {},
     "output_type": "execute_result"
    }
   ],
   "source": [
    "counted_score_without_genre = pd.DataFrame()\n",
    "counted_score_without_genre[['negativ','positiv','neutral']] = counted_score_per_genre[counted_score_per_year.columns[1:4]]\n",
    "\n",
    "average2 = counted_score_without_genre.divide(counted_score_without_genre.sum(axis=1), axis=0)\n",
    "average2['genre'] = counted_score_per_genre[counted_score_per_genre.columns[:1]]\n",
    "average2.head()\n",
    "#hier wird ein Datenframe average erstellt mit dem Prozentuallen Anteil in jeder Zeile\n",
    "#im unseren Fall wird in jeder Genre der Prozentualler Anteil berechnet"
   ]
  },
  {
   "cell_type": "code",
   "execution_count": 10,
   "metadata": {},
   "outputs": [
    {
     "data": {
      "image/png": "[encoded data removed]",
      "text/plain": [
       "<matplotlib.figure.Figure at 0x2045f75de80>"
      ]
     },
     "metadata": {},
     "output_type": "display_data"
    }
   ],
   "source": [
    "import numpy as np\n",
    "import matplotlib.pyplot as plt\n",
    "\n",
    "colors = [\"#006D2C\", \"#31A354\",\"#74C476\"]\n",
    "ax = average1.plot.bar(x = 'year', y = ['negativ','neutral','positiv'], stacked=True, color=colors, figsize=(15,10),fontsize=12,title='Prozentualler Anteil negativer,positiver,neutraler Lieder')\n",
    "ax.set_xlabel(\"Jahr\", fontsize=15)\n",
    "ax.set_ylabel(\"Anzahl der Wörter\", fontsize=15)\n",
    "plt.show()"
   ]
  },
  {
   "cell_type": "code",
   "execution_count": 11,
   "metadata": {},
   "outputs": [
    {
     "data": {
      "image/png": "[encoded data removed]",
      "text/plain": [
       "<matplotlib.figure.Figure at 0x20460580128>"
      ]
     },
     "metadata": {},
     "output_type": "display_data"
    }
   ],
   "source": [
    "colors = [\"#006D2C\", \"#31A354\",\"#74C476\"]\n",
    "ax = average2.plot.bar(x = 'genre', y = ['negativ','neutral','positiv'], stacked=True, color=colors, figsize=(15,10),fontsize=12,title='Prozentualler Anteil negativer,positiver,neutraler Lieder')\n",
    "ax.set_xlabel(\"Jahr\", fontsize=15)\n",
    "ax.set_ylabel(\"Anzahl der Wörter\", fontsize=15)\n",
    "plt.show()"
   ]
  },
  {
   "cell_type": "code",
   "execution_count": 13,
   "metadata": {},
   "outputs": [
    {
     "data": {
      "image/png": "[encoded data removed]",
      "text/plain": [
       "<matplotlib.figure.Figure at 0x2045f7594e0>"
      ]
     },
     "metadata": {},
     "output_type": "display_data"
    }
   ],
   "source": [
    "colors = [\"#006D2C\", \"#31A354\",\"#74C476\"]\n",
    "ax = average1.plot.bar(x = 'year', y = ['negativ','positiv'], stacked=True, color=colors, figsize=(15,10),fontsize=12,title='Prozentualler Anteil negativer,positiver,neutraler Lieder')\n",
    "ax.set_xlabel(\"Jahr\", fontsize=15)\n",
    "ax.set_ylabel(\"Anzahl der Wörter\", fontsize=15)\n",
    "plt.show()"
   ]
  },
  {
   "cell_type": "code",
   "execution_count": 12,
   "metadata": {},
   "outputs": [
    {
     "data": {
      "image/png": "[encoded data removed]",
      "text/plain": [
       "<matplotlib.figure.Figure at 0x20460928160>"
      ]
     },
     "metadata": {},
     "output_type": "display_data"
    }
   ],
   "source": [
    "colors = [\"#006D2C\", \"#31A354\",\"#74C476\"]\n",
    "ax = average2.plot.bar(x = 'genre', y = ['negativ','positiv'], stacked=True, color=colors, figsize=(15,10),fontsize=12,title='Prozentualler Anteil negativer,positiver,neutraler Lieder')\n",
    "ax.set_xlabel(\"Jahr\", fontsize=15)\n",
    "ax.set_ylabel(\"Anzahl der Wörter\", fontsize=15)\n",
    "plt.show()"
   ]
  },
  {
   "cell_type": "code",
   "execution_count": null,
   "metadata": {
    "collapsed": true
   },
   "outputs": [],
   "source": []
  }
 ],
 "metadata": {
  "kernelspec": {
   "display_name": "Python 3",
   "language": "python",
   "name": "python3"
  },
  "language_info": {
   "codemirror_mode": {
    "name": "ipython",
    "version": 3
   },
   "file_extension": ".py",
   "mimetype": "text/x-python",
   "name": "python",
   "nbconvert_exporter": "python",
   "pygments_lexer": "ipython3",
   "version": "3.6.3"
  }
 },
 "nbformat": 4,
 "nbformat_minor": 2
}
