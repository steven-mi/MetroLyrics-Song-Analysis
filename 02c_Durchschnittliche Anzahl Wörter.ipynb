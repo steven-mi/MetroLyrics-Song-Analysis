{
 "cells": [
  {
   "cell_type": "markdown",
   "metadata": {},
   "source": [
    "# Durschnittliche Anzahl an Wörtern"
   ]
  },
  {
   "cell_type": "code",
   "execution_count": 1,
   "metadata": {
    "collapsed": true
   },
   "outputs": [],
   "source": [
    "import pandas as pd"
   ]
  },
  {
   "cell_type": "code",
   "execution_count": 2,
   "metadata": {},
   "outputs": [
    {
     "name": "stdout",
     "output_type": "stream",
     "text": [
      "<class 'pandas.core.frame.DataFrame'>\n",
      "RangeIndex: 259793 entries, 0 to 259792\n",
      "Data columns (total 7 columns):\n",
      "Unnamed: 0                      259793 non-null int64\n",
      "song                            259792 non-null object\n",
      "year                            259793 non-null int64\n",
      "genre                           259793 non-null object\n",
      "word_tokenize_no_punctuation    259793 non-null object\n",
      "word_tokenize_length            259793 non-null int64\n",
      "word_tokenize_no_stopwords      259793 non-null object\n",
      "dtypes: int64(3), object(4)\n",
      "memory usage: 13.9+ MB\n"
     ]
    }
   ],
   "source": [
    "df = pd.read_csv('lyrics_clean_utf8.csv')\n",
    "df.info()"
   ]
  },
  {
   "cell_type": "markdown",
   "metadata": {
    "collapsed": true
   },
   "source": [
    "## Berechnung des Durchschnitts\n",
    "Funktion mean berechnet den Durchschnitt"
   ]
  },
  {
   "cell_type": "code",
   "execution_count": 3,
   "metadata": {},
   "outputs": [
    {
     "data": {
      "text/plain": [
       "244.321467476029"
      ]
     },
     "execution_count": 3,
     "metadata": {},
     "output_type": "execute_result"
    }
   ],
   "source": [
    "mean = df['word_tokenize_length'].mean()\n",
    "mean"
   ]
  }
 ],
 "metadata": {
  "kernelspec": {
   "display_name": "Python 3",
   "language": "python",
   "name": "python3"
  },
  "language_info": {
   "codemirror_mode": {
    "name": "ipython",
    "version": 3
   },
   "file_extension": ".py",
   "mimetype": "text/x-python",
   "name": "python",
   "nbconvert_exporter": "python",
   "pygments_lexer": "ipython3",
   "version": "3.6.3"
  }
 },
 "nbformat": 4,
 "nbformat_minor": 2
}
