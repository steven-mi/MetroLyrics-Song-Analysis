{
 "cells": [
  {
   "cell_type": "markdown",
   "metadata": {},
   "source": [
    "# Wie viele einzigartige Wörter werden verwendet"
   ]
  },
  {
   "cell_type": "code",
   "execution_count": 1,
   "metadata": {},
   "outputs": [
    {
     "name": "stdout",
     "output_type": "stream",
     "text": [
      "<class 'pandas.core.frame.DataFrame'>\n",
      "RangeIndex: 259793 entries, 0 to 259792\n",
      "Data columns (total 7 columns):\n",
      "Unnamed: 0                      259793 non-null int64\n",
      "song                            259792 non-null object\n",
      "year                            259793 non-null int64\n",
      "genre                           259793 non-null object\n",
      "word_tokenize_no_punctuation    259793 non-null object\n",
      "word_tokenize_length            259793 non-null int64\n",
      "word_tokenize_no_stopwords      259793 non-null object\n",
      "dtypes: int64(3), object(4)\n",
      "memory usage: 13.9+ MB\n"
     ]
    }
   ],
   "source": [
    "import pandas as pd\n",
    "df = pd.read_csv('lyrics_clean_utf8.csv',encoding ='utf-8')\n",
    "df.info()"
   ]
  },
  {
   "cell_type": "code",
   "execution_count": 2,
   "metadata": {},
   "outputs": [
    {
     "data": {
      "text/html": [
       "<div>\n",
       "<style>\n",
       "    .dataframe thead tr:only-child th {\n",
       "        text-align: right;\n",
       "    }\n",
       "\n",
       "    .dataframe thead th {\n",
       "        text-align: left;\n",
       "    }\n",
       "\n",
       "    .dataframe tbody tr th {\n",
       "        vertical-align: top;\n",
       "    }\n",
       "</style>\n",
       "<table border=\"1\" class=\"dataframe\">\n",
       "  <thead>\n",
       "    <tr style=\"text-align: right;\">\n",
       "      <th></th>\n",
       "      <th>Unnamed: 0</th>\n",
       "      <th>song</th>\n",
       "      <th>year</th>\n",
       "      <th>genre</th>\n",
       "      <th>word_tokenize_no_punctuation</th>\n",
       "      <th>word_tokenize_length</th>\n",
       "      <th>word_tokenize_no_stopwords</th>\n",
       "    </tr>\n",
       "  </thead>\n",
       "  <tbody>\n",
       "    <tr>\n",
       "      <th>0</th>\n",
       "      <td>0</td>\n",
       "      <td>ego-remix</td>\n",
       "      <td>2009</td>\n",
       "      <td>Pop</td>\n",
       "      <td>['oh', 'baby', 'how', 'you', 'doing', 'you', '...</td>\n",
       "      <td>474</td>\n",
       "      <td>['oh', 'baby', 'know', \"'m\", 'gon', 'na', 'cut...</td>\n",
       "    </tr>\n",
       "    <tr>\n",
       "      <th>1</th>\n",
       "      <td>1</td>\n",
       "      <td>then-tell-me</td>\n",
       "      <td>2009</td>\n",
       "      <td>Pop</td>\n",
       "      <td>['playin', 'everything', 'so', 'easy', 'it', \"...</td>\n",
       "      <td>270</td>\n",
       "      <td>['playin', 'everything', 'easy', \"'s\", 'like',...</td>\n",
       "    </tr>\n",
       "    <tr>\n",
       "      <th>2</th>\n",
       "      <td>2</td>\n",
       "      <td>honesty</td>\n",
       "      <td>2009</td>\n",
       "      <td>Pop</td>\n",
       "      <td>['if', 'you', 'search', 'for', 'tenderness', '...</td>\n",
       "      <td>177</td>\n",
       "      <td>['search', 'tenderness', \"n't\", 'hard', 'find'...</td>\n",
       "    </tr>\n",
       "    <tr>\n",
       "      <th>3</th>\n",
       "      <td>3</td>\n",
       "      <td>you-are-my-rock</td>\n",
       "      <td>2009</td>\n",
       "      <td>Pop</td>\n",
       "      <td>['oh', 'oh', 'oh', 'i', 'oh', 'oh', 'oh', 'i',...</td>\n",
       "      <td>555</td>\n",
       "      <td>['oh', 'oh', 'oh', 'oh', 'oh', 'oh', 'verse', ...</td>\n",
       "    </tr>\n",
       "    <tr>\n",
       "      <th>4</th>\n",
       "      <td>4</td>\n",
       "      <td>black-culture</td>\n",
       "      <td>2009</td>\n",
       "      <td>Pop</td>\n",
       "      <td>['party', 'the', 'people', 'the', 'people', 't...</td>\n",
       "      <td>338</td>\n",
       "      <td>['party', 'people', 'people', 'party', \"'s\", '...</td>\n",
       "    </tr>\n",
       "  </tbody>\n",
       "</table>\n",
       "</div>"
      ],
      "text/plain": [
       "   Unnamed: 0             song  year genre  \\\n",
       "0           0        ego-remix  2009   Pop   \n",
       "1           1     then-tell-me  2009   Pop   \n",
       "2           2          honesty  2009   Pop   \n",
       "3           3  you-are-my-rock  2009   Pop   \n",
       "4           4    black-culture  2009   Pop   \n",
       "\n",
       "                        word_tokenize_no_punctuation  word_tokenize_length  \\\n",
       "0  ['oh', 'baby', 'how', 'you', 'doing', 'you', '...                   474   \n",
       "1  ['playin', 'everything', 'so', 'easy', 'it', \"...                   270   \n",
       "2  ['if', 'you', 'search', 'for', 'tenderness', '...                   177   \n",
       "3  ['oh', 'oh', 'oh', 'i', 'oh', 'oh', 'oh', 'i',...                   555   \n",
       "4  ['party', 'the', 'people', 'the', 'people', 't...                   338   \n",
       "\n",
       "                          word_tokenize_no_stopwords  \n",
       "0  ['oh', 'baby', 'know', \"'m\", 'gon', 'na', 'cut...  \n",
       "1  ['playin', 'everything', 'easy', \"'s\", 'like',...  \n",
       "2  ['search', 'tenderness', \"n't\", 'hard', 'find'...  \n",
       "3  ['oh', 'oh', 'oh', 'oh', 'oh', 'oh', 'verse', ...  \n",
       "4  ['party', 'people', 'people', 'party', \"'s\", '...  "
      ]
     },
     "execution_count": 2,
     "metadata": {},
     "output_type": "execute_result"
    }
   ],
   "source": [
    "df.head()"
   ]
  },
  {
   "cell_type": "markdown",
   "metadata": {},
   "source": [
    "## Entfernen von Trennzeichen\n",
    "Entfernen der CSV Trenzeichen ' und \""
   ]
  },
  {
   "cell_type": "code",
   "execution_count": 3,
   "metadata": {},
   "outputs": [
    {
     "data": {
      "text/html": [
       "<div>\n",
       "<style>\n",
       "    .dataframe thead tr:only-child th {\n",
       "        text-align: right;\n",
       "    }\n",
       "\n",
       "    .dataframe thead th {\n",
       "        text-align: left;\n",
       "    }\n",
       "\n",
       "    .dataframe tbody tr th {\n",
       "        vertical-align: top;\n",
       "    }\n",
       "</style>\n",
       "<table border=\"1\" class=\"dataframe\">\n",
       "  <thead>\n",
       "    <tr style=\"text-align: right;\">\n",
       "      <th></th>\n",
       "      <th>Unnamed: 0</th>\n",
       "      <th>song</th>\n",
       "      <th>year</th>\n",
       "      <th>genre</th>\n",
       "      <th>word_tokenize_no_punctuation</th>\n",
       "      <th>word_tokenize_length</th>\n",
       "      <th>word_tokenize_no_stopwords</th>\n",
       "    </tr>\n",
       "  </thead>\n",
       "  <tbody>\n",
       "    <tr>\n",
       "      <th>0</th>\n",
       "      <td>0</td>\n",
       "      <td>ego-remix</td>\n",
       "      <td>2009</td>\n",
       "      <td>Pop</td>\n",
       "      <td>[oh, baby, how, you, doing, you, know, i, m, g...</td>\n",
       "      <td>474</td>\n",
       "      <td>[oh, baby, know, m, gon, na, cut, right, chase...</td>\n",
       "    </tr>\n",
       "    <tr>\n",
       "      <th>1</th>\n",
       "      <td>1</td>\n",
       "      <td>then-tell-me</td>\n",
       "      <td>2009</td>\n",
       "      <td>Pop</td>\n",
       "      <td>[playin, everything, so, easy, it, s, like, yo...</td>\n",
       "      <td>270</td>\n",
       "      <td>[playin, everything, easy, s, like, seem, sure...</td>\n",
       "    </tr>\n",
       "    <tr>\n",
       "      <th>2</th>\n",
       "      <td>2</td>\n",
       "      <td>honesty</td>\n",
       "      <td>2009</td>\n",
       "      <td>Pop</td>\n",
       "      <td>[if, you, search, for, tenderness, it, is, nt,...</td>\n",
       "      <td>177</td>\n",
       "      <td>[search, tenderness, nt, hard, find, love, nee...</td>\n",
       "    </tr>\n",
       "    <tr>\n",
       "      <th>3</th>\n",
       "      <td>3</td>\n",
       "      <td>you-are-my-rock</td>\n",
       "      <td>2009</td>\n",
       "      <td>Pop</td>\n",
       "      <td>[oh, oh, oh, i, oh, oh, oh, i, verse, 1, if, i...</td>\n",
       "      <td>555</td>\n",
       "      <td>[oh, oh, oh, oh, oh, oh, verse, 1, wrote, book...</td>\n",
       "    </tr>\n",
       "    <tr>\n",
       "      <th>4</th>\n",
       "      <td>4</td>\n",
       "      <td>black-culture</td>\n",
       "      <td>2009</td>\n",
       "      <td>Pop</td>\n",
       "      <td>[party, the, people, the, people, the, party, ...</td>\n",
       "      <td>338</td>\n",
       "      <td>[party, people, people, party, s, popping, sit...</td>\n",
       "    </tr>\n",
       "  </tbody>\n",
       "</table>\n",
       "</div>"
      ],
      "text/plain": [
       "   Unnamed: 0             song  year genre  \\\n",
       "0           0        ego-remix  2009   Pop   \n",
       "1           1     then-tell-me  2009   Pop   \n",
       "2           2          honesty  2009   Pop   \n",
       "3           3  you-are-my-rock  2009   Pop   \n",
       "4           4    black-culture  2009   Pop   \n",
       "\n",
       "                        word_tokenize_no_punctuation  word_tokenize_length  \\\n",
       "0  [oh, baby, how, you, doing, you, know, i, m, g...                   474   \n",
       "1  [playin, everything, so, easy, it, s, like, yo...                   270   \n",
       "2  [if, you, search, for, tenderness, it, is, nt,...                   177   \n",
       "3  [oh, oh, oh, i, oh, oh, oh, i, verse, 1, if, i...                   555   \n",
       "4  [party, the, people, the, people, the, party, ...                   338   \n",
       "\n",
       "                          word_tokenize_no_stopwords  \n",
       "0  [oh, baby, know, m, gon, na, cut, right, chase...  \n",
       "1  [playin, everything, easy, s, like, seem, sure...  \n",
       "2  [search, tenderness, nt, hard, find, love, nee...  \n",
       "3  [oh, oh, oh, oh, oh, oh, verse, 1, wrote, book...  \n",
       "4  [party, people, people, party, s, popping, sit...  "
      ]
     },
     "execution_count": 3,
     "metadata": {},
     "output_type": "execute_result"
    }
   ],
   "source": [
    "df['word_tokenize_no_punctuation'] = df['word_tokenize_no_punctuation'].str.replace(\"'\",'')\n",
    "df['word_tokenize_no_punctuation'] = df['word_tokenize_no_punctuation'].str.replace('\"','')\n",
    "df['word_tokenize_no_stopwords'] = df['word_tokenize_no_stopwords'].str.replace(\"'\",'')\n",
    "df['word_tokenize_no_stopwords'] = df['word_tokenize_no_stopwords'].str.replace('\"','')\n",
    "df.head()"
   ]
  },
  {
   "cell_type": "markdown",
   "metadata": {},
   "source": [
    "## Zählen der Einzigartigen Wörter"
   ]
  },
  {
   "cell_type": "code",
   "execution_count": 4,
   "metadata": {
    "collapsed": true
   },
   "outputs": [],
   "source": [
    "df['einzigartig_count'] = df['word_tokenize_no_punctuation'].apply(lambda x: len(' '.join(str(s) for s in set(x))))"
   ]
  },
  {
   "cell_type": "markdown",
   "metadata": {},
   "source": [
    "## Zusammenfassen und Beschreiben\n",
    "describe() gibt zurück:  count: Anzahl der Objekte, mean: Durchschnitt, std: Standartabweichung, min-max: Angabe des wertes bei min, 25%, 50%, 75%, max"
   ]
  },
  {
   "cell_type": "markdown",
   "metadata": {},
   "source": [
    "### Einzigartige Wörteranzahl nach Jahr zusammengefasst\n",
    "mit describe() alle Lieder des selben Jahres beschrieben"
   ]
  },
  {
   "cell_type": "code",
   "execution_count": 5,
   "metadata": {},
   "outputs": [
    {
     "data": {
      "text/html": [
       "<div>\n",
       "<style>\n",
       "    .dataframe thead tr:only-child th {\n",
       "        text-align: right;\n",
       "    }\n",
       "\n",
       "    .dataframe thead th {\n",
       "        text-align: left;\n",
       "    }\n",
       "\n",
       "    .dataframe tbody tr th {\n",
       "        vertical-align: top;\n",
       "    }\n",
       "</style>\n",
       "<table border=\"1\" class=\"dataframe\">\n",
       "  <thead>\n",
       "    <tr style=\"text-align: right;\">\n",
       "      <th></th>\n",
       "      <th>count</th>\n",
       "      <th>mean</th>\n",
       "      <th>std</th>\n",
       "      <th>min</th>\n",
       "      <th>25%</th>\n",
       "      <th>50%</th>\n",
       "      <th>75%</th>\n",
       "      <th>max</th>\n",
       "    </tr>\n",
       "    <tr>\n",
       "      <th>year</th>\n",
       "      <th></th>\n",
       "      <th></th>\n",
       "      <th></th>\n",
       "      <th></th>\n",
       "      <th></th>\n",
       "      <th></th>\n",
       "      <th></th>\n",
       "      <th></th>\n",
       "    </tr>\n",
       "  </thead>\n",
       "  <tbody>\n",
       "    <tr>\n",
       "      <th>1970</th>\n",
       "      <td>165.0</td>\n",
       "      <td>53.096970</td>\n",
       "      <td>3.221922</td>\n",
       "      <td>45.0</td>\n",
       "      <td>51.0</td>\n",
       "      <td>53.0</td>\n",
       "      <td>55.0</td>\n",
       "      <td>67.0</td>\n",
       "    </tr>\n",
       "    <tr>\n",
       "      <th>1971</th>\n",
       "      <td>195.0</td>\n",
       "      <td>53.564103</td>\n",
       "      <td>3.509889</td>\n",
       "      <td>45.0</td>\n",
       "      <td>51.0</td>\n",
       "      <td>53.0</td>\n",
       "      <td>55.0</td>\n",
       "      <td>71.0</td>\n",
       "    </tr>\n",
       "    <tr>\n",
       "      <th>1972</th>\n",
       "      <td>190.0</td>\n",
       "      <td>54.473684</td>\n",
       "      <td>4.490654</td>\n",
       "      <td>45.0</td>\n",
       "      <td>51.0</td>\n",
       "      <td>53.0</td>\n",
       "      <td>57.0</td>\n",
       "      <td>79.0</td>\n",
       "    </tr>\n",
       "    <tr>\n",
       "      <th>1973</th>\n",
       "      <td>244.0</td>\n",
       "      <td>53.950820</td>\n",
       "      <td>3.420713</td>\n",
       "      <td>41.0</td>\n",
       "      <td>51.0</td>\n",
       "      <td>53.0</td>\n",
       "      <td>57.0</td>\n",
       "      <td>67.0</td>\n",
       "    </tr>\n",
       "    <tr>\n",
       "      <th>1974</th>\n",
       "      <td>158.0</td>\n",
       "      <td>55.215190</td>\n",
       "      <td>5.228951</td>\n",
       "      <td>43.0</td>\n",
       "      <td>51.5</td>\n",
       "      <td>55.0</td>\n",
       "      <td>57.0</td>\n",
       "      <td>75.0</td>\n",
       "    </tr>\n",
       "  </tbody>\n",
       "</table>\n",
       "</div>"
      ],
      "text/plain": [
       "      count       mean       std   min   25%   50%   75%   max\n",
       "year                                                          \n",
       "1970  165.0  53.096970  3.221922  45.0  51.0  53.0  55.0  67.0\n",
       "1971  195.0  53.564103  3.509889  45.0  51.0  53.0  55.0  71.0\n",
       "1972  190.0  54.473684  4.490654  45.0  51.0  53.0  57.0  79.0\n",
       "1973  244.0  53.950820  3.420713  41.0  51.0  53.0  57.0  67.0\n",
       "1974  158.0  55.215190  5.228951  43.0  51.5  55.0  57.0  75.0"
      ]
     },
     "execution_count": 5,
     "metadata": {},
     "output_type": "execute_result"
    }
   ],
   "source": [
    "grouped_by_year = df['einzigartig_count'].groupby(df['year']).describe()\n",
    "grouped_by_year.head()"
   ]
  },
  {
   "cell_type": "markdown",
   "metadata": {},
   "source": [
    "## Ausgabe der Ergebnisse"
   ]
  },
  {
   "cell_type": "code",
   "execution_count": 6,
   "metadata": {},
   "outputs": [
    {
     "data": {
      "image/png": "[encoded data removed]",
      "text/plain": [
       "<matplotlib.figure.Figure at 0x26999594898>"
      ]
     },
     "metadata": {},
     "output_type": "display_data"
    }
   ],
   "source": [
    "import matplotlib.pyplot as plt\n",
    "plot_year = grouped_by_year['mean'].plot(kind='bar', title =\"Durchschnittliche einzigartige Wortanzahl pro Jahr\", figsize=(15, 10), fontsize=12)\n",
    "plot_year.set_xlabel(\"Jahr\", fontsize=15)\n",
    "plot_year.set_ylabel(\"Anzahl der Wörter\", fontsize=15)\n",
    "\n",
    "plt.show()"
   ]
  },
  {
   "cell_type": "markdown",
   "metadata": {},
   "source": [
    "## Durchschnittliche einzigartige Wortanzahl"
   ]
  },
  {
   "cell_type": "code",
   "execution_count": 7,
   "metadata": {},
   "outputs": [
    {
     "data": {
      "text/plain": [
       "55.86903034338877"
      ]
     },
     "execution_count": 7,
     "metadata": {},
     "output_type": "execute_result"
    }
   ],
   "source": [
    "overall= df['einzigartig_count'].mean()\n",
    "overall"
   ]
  }
 ],
 "metadata": {
  "kernelspec": {
   "display_name": "Python 3",
   "language": "python",
   "name": "python3"
  },
  "language_info": {
   "codemirror_mode": {
    "name": "ipython",
    "version": 3
   },
   "file_extension": ".py",
   "mimetype": "text/x-python",
   "name": "python",
   "nbconvert_exporter": "python",
   "pygments_lexer": "ipython3",
   "version": "3.6.3"
  }
 },
 "nbformat": 4,
 "nbformat_minor": 2
}
